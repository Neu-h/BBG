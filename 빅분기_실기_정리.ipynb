{
  "nbformat": 4,
  "nbformat_minor": 0,
  "metadata": {
    "colab": {
      "name": "빅분기 실기 정리.ipynb",
      "provenance": [],
      "collapsed_sections": [],
      "authorship_tag": "ABX9TyM8Zp2em31cqhxSW23c4yha",
      "include_colab_link": true
    },
    "kernelspec": {
      "name": "python3",
      "display_name": "Python 3"
    },
    "language_info": {
      "name": "python"
    }
  },
  "cells": [
    {
      "cell_type": "markdown",
      "metadata": {
        "id": "view-in-github",
        "colab_type": "text"
      },
      "source": [
        "<a href=\"https://colab.research.google.com/github/Neu-h/BBG/blob/main/%EB%B9%85%EB%B6%84%EA%B8%B0_%EC%8B%A4%EA%B8%B0_%EC%A0%95%EB%A6%AC.ipynb\" target=\"_parent\"><img src=\"https://colab.research.google.com/assets/colab-badge.svg\" alt=\"Open In Colab\"/></a>"
      ]
    },
    {
      "cell_type": "markdown",
      "source": [
        "이상치 처리"
      ],
      "metadata": {
        "id": "30llxxowSzKg"
      }
    },
    {
      "cell_type": "code",
      "execution_count": null,
      "metadata": {
        "id": "hXMTj-C6InJe"
      },
      "outputs": [],
      "source": [
        ""
      ]
    },
    {
      "cell_type": "code",
      "source": [
        ""
      ],
      "metadata": {
        "id": "pRDjrKm4IpVp"
      },
      "execution_count": null,
      "outputs": []
    },
    {
      "cell_type": "markdown",
      "source": [
        "scaler() 사용"
      ],
      "metadata": {
        "id": "L_e6uB8BS19h"
      }
    },
    {
      "cell_type": "code",
      "source": [
        ""
      ],
      "metadata": {
        "id": "hWWeetqZIpTX"
      },
      "execution_count": null,
      "outputs": []
    },
    {
      "cell_type": "code",
      "source": [
        ""
      ],
      "metadata": {
        "id": "gyMR4ffaIpO_"
      },
      "execution_count": null,
      "outputs": []
    },
    {
      "cell_type": "markdown",
      "source": [
        "numpy 활용"
      ],
      "metadata": {
        "id": "wKeArYdYS5K3"
      }
    },
    {
      "cell_type": "code",
      "source": [
        "np.where(조건, 참일때 값, 거짓일때 값)"
      ],
      "metadata": {
        "id": "l9flxyINIpNz"
      },
      "execution_count": null,
      "outputs": []
    },
    {
      "cell_type": "code",
      "source": [
        "(t>0.5).sum()    # t(numpy)>0.5 인 값들의 개수\n",
        "len(t[t>0.5])    # 동일"
      ],
      "metadata": {
        "id": "BXedUdkdS57b"
      },
      "execution_count": null,
      "outputs": []
    },
    {
      "cell_type": "code",
      "source": [
        ""
      ],
      "metadata": {
        "id": "FYwT-BoGS6yq"
      },
      "execution_count": null,
      "outputs": []
    },
    {
      "cell_type": "markdown",
      "source": [
        "모델별 parameter"
      ],
      "metadata": {
        "id": "jvhdA9TPTt1A"
      }
    },
    {
      "cell_type": "code",
      "source": [
        ""
      ],
      "metadata": {
        "id": "VGtD-kGDS6tD"
      },
      "execution_count": null,
      "outputs": []
    },
    {
      "cell_type": "markdown",
      "source": [
        "레이블 인코딩"
      ],
      "metadata": {
        "id": "zwWyq2YRT0yf"
      }
    },
    {
      "cell_type": "code",
      "source": [
        "dfX2['주구매지점'] = dfX2['주구매지점'].astype('category').cat.codes"
      ],
      "metadata": {
        "id": "uVKXCc9gS6mG"
      },
      "execution_count": null,
      "outputs": []
    },
    {
      "cell_type": "code",
      "source": [
        ""
      ],
      "metadata": {
        "id": "FyMZLMZCS6k9"
      },
      "execution_count": null,
      "outputs": []
    },
    {
      "cell_type": "code",
      "source": [
        ""
      ],
      "metadata": {
        "id": "fg2B_tMmS6Z-"
      },
      "execution_count": null,
      "outputs": []
    },
    {
      "cell_type": "markdown",
      "source": [
        "# 무지성 암기 - 분류편\n",
        "1) 모듈 import\n",
        "\n",
        "2) 함수 생성 - 성능 평가, 모델 생성\n",
        "\n",
        "3) 데이터 불러오기\n",
        "\n",
        "4) 데이터 전처리 - 데이터 타입 변환, 결측치/이상치 처리\n",
        "\n",
        "5) 변수간 상관관계\n",
        "\n",
        "6) 변수 선택, 학습/테스트 데이터 분할\n",
        "\n",
        "7) 데이터 스플릿, 모델 학습, 성능\n",
        "\n",
        "8) 최종모델로 재학습, 제출 파일 생성"
      ],
      "metadata": {
        "id": "Uv-orT1aIted"
      }
    },
    {
      "cell_type": "code",
      "source": [
        "# 1) 모듈 import\n",
        "import pandas as pd\n",
        "import numpy as np\n",
        "import datetime as dt\n",
        "\n",
        "pd.options.display.max_rows = 500\n",
        "pd.options.display.max_columns = 20\n",
        "pd.set_option('display.float_format', '{:.4f}'.format)     # 이거 헷갈림ㅠ\n",
        "\n",
        "from sklearn.preprocessing import MinMaxScaler\n",
        "from sklearn.preprocessing import StandardScaler\n",
        "from sklearn.model_selection import train_test_split\n",
        "from sklearn.metrics import roc_auc_score\n",
        "from sklearn.metrics import confusion_matrix\n",
        "\n",
        "from sklearn.linear_model import LogisticRegression as LR\n",
        "from sklearn.neighbors import KNeighborsClassifier as KNC\n",
        "from sklearn.tree import DecisionTreeClassifier as DTC\n",
        "from sklearn.ensemble import RandomForestClassifier as RFC\n",
        "from xgboost import XGBClassifier as XGBC\n",
        "\n",
        "\n",
        "# 2) 함수 생성 - 성능 평가, 모델 생성, 데이터 생성, 모델 학습\n",
        "\n",
        "def get_scores(model, xtrain, xtest, ytrain, ytest):\n",
        "  s1 = model.score(xtrain, ytrain)\n",
        "  s2 = model.score(xtest, ytest)\n",
        "  \n",
        "  ypred = model.predict_proba(xtest)[:, 1]\n",
        "  s3 = roc_auc_score(ytest, ypred)\n",
        "\n",
        "  eval = [s1, s2, s3]\n",
        "  names = 'train_score test_score roc_auc'.split()\n",
        "  scores = pd.Series(eval, index=names)\n",
        "\n",
        "  return scores\n",
        "\n",
        "\n",
        "def make_models(xtrain, xtest, ytrain, ytest):\n",
        "  temp = pd.DataFrame()\n",
        "\n",
        "  model_LR = LR().fit(xtrain, ytrain)\n",
        "  temp['LR'] = get_scores(model_LR, xtrain, xtest, ytrain, ytest)\n",
        "\n",
        "  for k in range(1,10):\n",
        "    model_KNC = KNC(k).fit(xtrain, ytrain)\n",
        "    temp[f'KNC_{k}'] = get_scores(model_KNC, xtrain, xtest, ytrain, ytest)\n",
        "\n",
        "  model_DTC = DTC(random_state=0).fit(xtrain, ytrain)\n",
        "  temp['DTC'] = get_scores(model_DTC, xtrain, xtest, ytrain, ytest)\n",
        "\n",
        "  for d in range(3,9):\n",
        "    model_DTC = DTC(max_depth=d, random_state=0).fit(xtrain, ytrain)\n",
        "    temp['DTC'] = get_scores(model_DTC, xtrain, xtest, ytrain, ytest)\n",
        "\n",
        "  model_RFC = RFC(500, random_state=0).fit(xtrain, ytrain)\n",
        "  temp['RFC'] = get_scores(model_RFC, xtrain, xtest, ytrain, ytest)\n",
        "\n",
        "  for n,d in zip([100, 500, 1000, 2000], range(3,9)):\n",
        "    model_RFC = RFC(n, max_depth=d, random_state=0).fit(xtrain, ytrain)\n",
        "    temp[f'RFC_{n}_{d}'] = get_scores(model_RFC, xtrain, xtest, ytrain, ytest)\n",
        "\n",
        "  model_XGBC = XGBC(eval_metric='logloss', use_label_encoder=False).fit(xtrain, ytrain)\n",
        "  temp['XGBC'] = get_scores(model_XGBC, xtrain, xtest, ytrain, ytest)\n",
        "\n",
        "  temp = temp.T\n",
        "  temp.insert(2, 'train-test', (temp['train_score']-temp['test_score']).abs())\n",
        "  return temp\n",
        "\n",
        "\n",
        "def make_data(dfXn, Y):\n",
        "  train_size = len(X_study)\n",
        "  X_tr = dfXn[:train_size]\n",
        "  X_te = dfXn[train_size:]\n",
        "  Y_tr = Y['gender']\n",
        "  print([a.shape for a in [X_tr, X_te, Y_tr]])      # X끼리는 컬럼 수가 같아야하고, tr끼리는 로우 수가 같아야함!\n",
        "  return X_tr, X_te, Y_tr\n",
        "\n",
        "\n",
        "def model_train(dfXn, Y):\n",
        "  X_tr, X_te, Y_tr = make_data(dfXn, Y)\n",
        "  \n",
        "  xtrain, xtest, ytrain, ytest = train_test_split(X_tr, Y_tr,\n",
        "                                                  test_size=0.3,\n",
        "                                                  stratify=Y_tr,\n",
        "                                                  random_state=0)\n",
        "  result = make_models(xtrain, xtest, ytrain, ytest)\n",
        "  print(result)\n",
        "  print('best model: ', np.where(result['roc_auc'] == result['roc_auc'].max()), 'max score: ', result['roc_auc'].max())\n",
        "\n"
      ],
      "metadata": {
        "id": "W9rUQ65ZIpKK"
      },
      "execution_count": 36,
      "outputs": []
    },
    {
      "cell_type": "code",
      "source": [
        "!git clone https://github.com/Soyoung-Yoon/bigdata"
      ],
      "metadata": {
        "id": "pVs9m6bEVOnZ"
      },
      "execution_count": null,
      "outputs": []
    },
    {
      "cell_type": "code",
      "source": [
        "# 3) 데이터 가져오기, 전처리 준비\n",
        "X_study = pd.read_csv('bigdata/X_train.csv', encoding='cp949')\n",
        "X_exam = pd.read_csv('bigdata/X_test.csv', encoding='cp949')\n",
        "Y = pd.read_csv('bigdata/y_train.csv', encoding='cp949')\n",
        "    \n",
        "dfX = pd.concat([X_study, X_exam], ignore_index=True)\n",
        "# display(dfX.shape, Y.shape, dfX.head(), Y.head(), dfX.info())\n",
        "    \n",
        "    \n",
        "# 4) 데이터 전처리 - 결측치/이상치 대체, 데이터타입 변환\n",
        "    \n",
        "dfX2 = dfX.copy()\n",
        "dfX2 = dfX2.drop(columns='cust_id')\n",
        "dfX2['주구매지점'] = dfX2['주구매지점'].astype('category').cat.codes\n",
        "dfX2['주구매상품'] = dfX2['주구매상품'].astype('category').cat.codes\n",
        "        \n",
        "dfX3 = dfX2.copy()\n",
        "dfX3['환불금액'] = dfX3['환불금액'].mask(dfX3['환불금액'].isna(), 0)\n",
        "    \n",
        "dfX4 = dfX2.copy()\n",
        "a = dfX4.groupby('주구매상품')['환불금액'].transform('mean')\n",
        "dfX4['환불금액'] = dfX4['환불금액'].mask(dfX4['환불금액'].isna(), a)\n",
        "b = dfX4['환불금액'].mean()\n",
        "dfX4['환불금액'] = dfX4['환불금액'].mask(dfX4['환불금액'].isna(), b)\n",
        "    \n",
        "dfX5 = dfX2.drop(columns='환불금액')\n",
        "\n",
        "\n",
        "# 5) 변수간 상관관계 확인\n",
        "\n",
        "dfXY = pd.merge(dfX, Y)\n",
        "display(dfXY.corr(), dfX2.info())\n",
        "\n",
        "\n",
        "for dfXn in [dfX3, dfX4, dfX5]:\n",
        "  model_train(dfXn, Y)"
      ],
      "metadata": {
        "colab": {
          "base_uri": "https://localhost:8080/",
          "height": 1000
        },
        "id": "0JQ-4H2EIpI_",
        "outputId": "fffb0320-9747-4e32-d0ad-ddbbfe3c31af"
      },
      "execution_count": 37,
      "outputs": [
        {
          "output_type": "stream",
          "name": "stdout",
          "text": [
            "<class 'pandas.core.frame.DataFrame'>\n",
            "RangeIndex: 5982 entries, 0 to 5981\n",
            "Data columns (total 9 columns):\n",
            " #   Column   Non-Null Count  Dtype  \n",
            "---  ------   --------------  -----  \n",
            " 0   총구매액     5982 non-null   int64  \n",
            " 1   최대구매액    5982 non-null   int64  \n",
            " 2   환불금액     2076 non-null   float64\n",
            " 3   주구매상품    5982 non-null   int8   \n",
            " 4   주구매지점    5982 non-null   int8   \n",
            " 5   내점일수     5982 non-null   int64  \n",
            " 6   내점당구매건수  5982 non-null   float64\n",
            " 7   주말방문비율   5982 non-null   float64\n",
            " 8   구매주기     5982 non-null   int64  \n",
            "dtypes: float64(3), int64(4), int8(2)\n",
            "memory usage: 338.9 KB\n"
          ]
        },
        {
          "output_type": "display_data",
          "data": {
            "text/plain": [
              "         cust_id    총구매액   최대구매액    환불금액    내점일수  내점당구매건수  주말방문비율    구매주기  \\\n",
              "cust_id   1.0000 -0.0080 -0.0059  0.0701 -0.0252  -0.0048  0.0019  0.0201   \n",
              "총구매액     -0.0080  1.0000  0.7001  0.4197  0.6591   0.0900  0.0144 -0.2129   \n",
              "최대구매액    -0.0059  0.7001  1.0000  0.4106  0.3741   0.0190  0.0223 -0.1158   \n",
              "환불금액      0.0701  0.4197  0.4106  1.0000  0.2703  -0.0631 -0.0624 -0.2111   \n",
              "내점일수     -0.0252  0.6591  0.3741  0.2703  1.0000   0.2253 -0.0103 -0.2932   \n",
              "내점당구매건수  -0.0048  0.0900  0.0190 -0.0631  0.2253   1.0000  0.0077 -0.0912   \n",
              "주말방문비율    0.0019  0.0144  0.0223 -0.0624 -0.0103   0.0077  1.0000  0.0034   \n",
              "구매주기      0.0201 -0.2129 -0.1158 -0.2111 -0.2932  -0.0912  0.0034  1.0000   \n",
              "gender   -0.0020 -0.1501 -0.1143 -0.0780 -0.1550  -0.0439  0.0736  0.0415   \n",
              "\n",
              "         gender  \n",
              "cust_id -0.0020  \n",
              "총구매액    -0.1501  \n",
              "최대구매액   -0.1143  \n",
              "환불금액    -0.0780  \n",
              "내점일수    -0.1550  \n",
              "내점당구매건수 -0.0439  \n",
              "주말방문비율   0.0736  \n",
              "구매주기     0.0415  \n",
              "gender   1.0000  "
            ],
            "text/html": [
              "\n",
              "  <div id=\"df-dae1fde9-c6be-487f-9f26-27b350ed7945\">\n",
              "    <div class=\"colab-df-container\">\n",
              "      <div>\n",
              "<style scoped>\n",
              "    .dataframe tbody tr th:only-of-type {\n",
              "        vertical-align: middle;\n",
              "    }\n",
              "\n",
              "    .dataframe tbody tr th {\n",
              "        vertical-align: top;\n",
              "    }\n",
              "\n",
              "    .dataframe thead th {\n",
              "        text-align: right;\n",
              "    }\n",
              "</style>\n",
              "<table border=\"1\" class=\"dataframe\">\n",
              "  <thead>\n",
              "    <tr style=\"text-align: right;\">\n",
              "      <th></th>\n",
              "      <th>cust_id</th>\n",
              "      <th>총구매액</th>\n",
              "      <th>최대구매액</th>\n",
              "      <th>환불금액</th>\n",
              "      <th>내점일수</th>\n",
              "      <th>내점당구매건수</th>\n",
              "      <th>주말방문비율</th>\n",
              "      <th>구매주기</th>\n",
              "      <th>gender</th>\n",
              "    </tr>\n",
              "  </thead>\n",
              "  <tbody>\n",
              "    <tr>\n",
              "      <th>cust_id</th>\n",
              "      <td>1.0000</td>\n",
              "      <td>-0.0080</td>\n",
              "      <td>-0.0059</td>\n",
              "      <td>0.0701</td>\n",
              "      <td>-0.0252</td>\n",
              "      <td>-0.0048</td>\n",
              "      <td>0.0019</td>\n",
              "      <td>0.0201</td>\n",
              "      <td>-0.0020</td>\n",
              "    </tr>\n",
              "    <tr>\n",
              "      <th>총구매액</th>\n",
              "      <td>-0.0080</td>\n",
              "      <td>1.0000</td>\n",
              "      <td>0.7001</td>\n",
              "      <td>0.4197</td>\n",
              "      <td>0.6591</td>\n",
              "      <td>0.0900</td>\n",
              "      <td>0.0144</td>\n",
              "      <td>-0.2129</td>\n",
              "      <td>-0.1501</td>\n",
              "    </tr>\n",
              "    <tr>\n",
              "      <th>최대구매액</th>\n",
              "      <td>-0.0059</td>\n",
              "      <td>0.7001</td>\n",
              "      <td>1.0000</td>\n",
              "      <td>0.4106</td>\n",
              "      <td>0.3741</td>\n",
              "      <td>0.0190</td>\n",
              "      <td>0.0223</td>\n",
              "      <td>-0.1158</td>\n",
              "      <td>-0.1143</td>\n",
              "    </tr>\n",
              "    <tr>\n",
              "      <th>환불금액</th>\n",
              "      <td>0.0701</td>\n",
              "      <td>0.4197</td>\n",
              "      <td>0.4106</td>\n",
              "      <td>1.0000</td>\n",
              "      <td>0.2703</td>\n",
              "      <td>-0.0631</td>\n",
              "      <td>-0.0624</td>\n",
              "      <td>-0.2111</td>\n",
              "      <td>-0.0780</td>\n",
              "    </tr>\n",
              "    <tr>\n",
              "      <th>내점일수</th>\n",
              "      <td>-0.0252</td>\n",
              "      <td>0.6591</td>\n",
              "      <td>0.3741</td>\n",
              "      <td>0.2703</td>\n",
              "      <td>1.0000</td>\n",
              "      <td>0.2253</td>\n",
              "      <td>-0.0103</td>\n",
              "      <td>-0.2932</td>\n",
              "      <td>-0.1550</td>\n",
              "    </tr>\n",
              "    <tr>\n",
              "      <th>내점당구매건수</th>\n",
              "      <td>-0.0048</td>\n",
              "      <td>0.0900</td>\n",
              "      <td>0.0190</td>\n",
              "      <td>-0.0631</td>\n",
              "      <td>0.2253</td>\n",
              "      <td>1.0000</td>\n",
              "      <td>0.0077</td>\n",
              "      <td>-0.0912</td>\n",
              "      <td>-0.0439</td>\n",
              "    </tr>\n",
              "    <tr>\n",
              "      <th>주말방문비율</th>\n",
              "      <td>0.0019</td>\n",
              "      <td>0.0144</td>\n",
              "      <td>0.0223</td>\n",
              "      <td>-0.0624</td>\n",
              "      <td>-0.0103</td>\n",
              "      <td>0.0077</td>\n",
              "      <td>1.0000</td>\n",
              "      <td>0.0034</td>\n",
              "      <td>0.0736</td>\n",
              "    </tr>\n",
              "    <tr>\n",
              "      <th>구매주기</th>\n",
              "      <td>0.0201</td>\n",
              "      <td>-0.2129</td>\n",
              "      <td>-0.1158</td>\n",
              "      <td>-0.2111</td>\n",
              "      <td>-0.2932</td>\n",
              "      <td>-0.0912</td>\n",
              "      <td>0.0034</td>\n",
              "      <td>1.0000</td>\n",
              "      <td>0.0415</td>\n",
              "    </tr>\n",
              "    <tr>\n",
              "      <th>gender</th>\n",
              "      <td>-0.0020</td>\n",
              "      <td>-0.1501</td>\n",
              "      <td>-0.1143</td>\n",
              "      <td>-0.0780</td>\n",
              "      <td>-0.1550</td>\n",
              "      <td>-0.0439</td>\n",
              "      <td>0.0736</td>\n",
              "      <td>0.0415</td>\n",
              "      <td>1.0000</td>\n",
              "    </tr>\n",
              "  </tbody>\n",
              "</table>\n",
              "</div>\n",
              "      <button class=\"colab-df-convert\" onclick=\"convertToInteractive('df-dae1fde9-c6be-487f-9f26-27b350ed7945')\"\n",
              "              title=\"Convert this dataframe to an interactive table.\"\n",
              "              style=\"display:none;\">\n",
              "        \n",
              "  <svg xmlns=\"http://www.w3.org/2000/svg\" height=\"24px\"viewBox=\"0 0 24 24\"\n",
              "       width=\"24px\">\n",
              "    <path d=\"M0 0h24v24H0V0z\" fill=\"none\"/>\n",
              "    <path d=\"M18.56 5.44l.94 2.06.94-2.06 2.06-.94-2.06-.94-.94-2.06-.94 2.06-2.06.94zm-11 1L8.5 8.5l.94-2.06 2.06-.94-2.06-.94L8.5 2.5l-.94 2.06-2.06.94zm10 10l.94 2.06.94-2.06 2.06-.94-2.06-.94-.94-2.06-.94 2.06-2.06.94z\"/><path d=\"M17.41 7.96l-1.37-1.37c-.4-.4-.92-.59-1.43-.59-.52 0-1.04.2-1.43.59L10.3 9.45l-7.72 7.72c-.78.78-.78 2.05 0 2.83L4 21.41c.39.39.9.59 1.41.59.51 0 1.02-.2 1.41-.59l7.78-7.78 2.81-2.81c.8-.78.8-2.07 0-2.86zM5.41 20L4 18.59l7.72-7.72 1.47 1.35L5.41 20z\"/>\n",
              "  </svg>\n",
              "      </button>\n",
              "      \n",
              "  <style>\n",
              "    .colab-df-container {\n",
              "      display:flex;\n",
              "      flex-wrap:wrap;\n",
              "      gap: 12px;\n",
              "    }\n",
              "\n",
              "    .colab-df-convert {\n",
              "      background-color: #E8F0FE;\n",
              "      border: none;\n",
              "      border-radius: 50%;\n",
              "      cursor: pointer;\n",
              "      display: none;\n",
              "      fill: #1967D2;\n",
              "      height: 32px;\n",
              "      padding: 0 0 0 0;\n",
              "      width: 32px;\n",
              "    }\n",
              "\n",
              "    .colab-df-convert:hover {\n",
              "      background-color: #E2EBFA;\n",
              "      box-shadow: 0px 1px 2px rgba(60, 64, 67, 0.3), 0px 1px 3px 1px rgba(60, 64, 67, 0.15);\n",
              "      fill: #174EA6;\n",
              "    }\n",
              "\n",
              "    [theme=dark] .colab-df-convert {\n",
              "      background-color: #3B4455;\n",
              "      fill: #D2E3FC;\n",
              "    }\n",
              "\n",
              "    [theme=dark] .colab-df-convert:hover {\n",
              "      background-color: #434B5C;\n",
              "      box-shadow: 0px 1px 3px 1px rgba(0, 0, 0, 0.15);\n",
              "      filter: drop-shadow(0px 1px 2px rgba(0, 0, 0, 0.3));\n",
              "      fill: #FFFFFF;\n",
              "    }\n",
              "  </style>\n",
              "\n",
              "      <script>\n",
              "        const buttonEl =\n",
              "          document.querySelector('#df-dae1fde9-c6be-487f-9f26-27b350ed7945 button.colab-df-convert');\n",
              "        buttonEl.style.display =\n",
              "          google.colab.kernel.accessAllowed ? 'block' : 'none';\n",
              "\n",
              "        async function convertToInteractive(key) {\n",
              "          const element = document.querySelector('#df-dae1fde9-c6be-487f-9f26-27b350ed7945');\n",
              "          const dataTable =\n",
              "            await google.colab.kernel.invokeFunction('convertToInteractive',\n",
              "                                                     [key], {});\n",
              "          if (!dataTable) return;\n",
              "\n",
              "          const docLinkHtml = 'Like what you see? Visit the ' +\n",
              "            '<a target=\"_blank\" href=https://colab.research.google.com/notebooks/data_table.ipynb>data table notebook</a>'\n",
              "            + ' to learn more about interactive tables.';\n",
              "          element.innerHTML = '';\n",
              "          dataTable['output_type'] = 'display_data';\n",
              "          await google.colab.output.renderOutput(dataTable, element);\n",
              "          const docLink = document.createElement('div');\n",
              "          docLink.innerHTML = docLinkHtml;\n",
              "          element.appendChild(docLink);\n",
              "        }\n",
              "      </script>\n",
              "    </div>\n",
              "  </div>\n",
              "  "
            ]
          },
          "metadata": {}
        },
        {
          "output_type": "display_data",
          "data": {
            "text/plain": [
              "None"
            ]
          },
          "metadata": {}
        },
        {
          "output_type": "stream",
          "name": "stdout",
          "text": [
            "[(3500, 9), (2482, 9), (3500,)]\n",
            "            train_score  test_score  train-test  roc_auc\n",
            "LR               0.6237      0.6238      0.0001   0.6529\n",
            "KNC_1            1.0000      0.5457      0.4543   0.5228\n",
            "KNC_2            0.7694      0.6095      0.1599   0.5495\n",
            "KNC_3            0.7792      0.6010      0.1782   0.5741\n",
            "KNC_4            0.7212      0.6219      0.0993   0.5884\n",
            "KNC_5            0.7233      0.6143      0.1090   0.5905\n",
            "KNC_6            0.7020      0.6381      0.0639   0.5937\n",
            "KNC_7            0.7049      0.6105      0.0944   0.5902\n",
            "KNC_8            0.6878      0.6305      0.0573   0.5993\n",
            "KNC_9            0.6906      0.6143      0.0763   0.5953\n",
            "DTC              0.7469      0.6238      0.1231   0.6090\n",
            "RFC              1.0000      0.6495      0.3505   0.6670\n",
            "RFC_100_3        0.6592      0.6457      0.0135   0.6851\n",
            "RFC_500_4        0.6755      0.6543      0.0212   0.6898\n",
            "RFC_1000_5       0.6931      0.6638      0.0293   0.6922\n",
            "RFC_2000_6       0.7224      0.6657      0.0567   0.6932\n",
            "XGBC             0.7245      0.6619      0.0626   0.6807\n",
            "data:            총구매액     최대구매액         환불금액  주구매상품  주구매지점  내점일수  내점당구매건수  주말방문비율  \\\n",
            "0      68282840  11264000 6860000.0000      5      0    19   3.8947  0.5270   \n",
            "1       2136000   2136000  300000.0000     21     19     2   1.5000  0.0000   \n",
            "2       3197000   1639000       0.0000      6      1     2   2.0000  0.0000   \n",
            "3      16077620   4935000       0.0000      5      2    18   2.4444  0.3182   \n",
            "4      29050000  24000000       0.0000     15      8     2   1.5000  0.0000   \n",
            "...         ...       ...          ...    ...    ...   ...      ...     ...   \n",
            "5977   82581500  23976000       0.0000      3      9     8   1.7500  0.6429   \n",
            "5978     480000    480000       0.0000     17      2     1   1.0000  0.0000   \n",
            "5979  260003790  25750000       0.0000      6      8    19   3.7368  0.9155   \n",
            "5980   88991520  18120000       0.0000     27      8     5   3.6000  0.4444   \n",
            "5981     623700    209000       0.0000      0     15     2   5.0000  0.0000   \n",
            "\n",
            "      구매주기  \n",
            "0       17  \n",
            "1        1  \n",
            "2        1  \n",
            "3       16  \n",
            "4       85  \n",
            "...    ...  \n",
            "5977    40  \n",
            "5978     0  \n",
            "5979    18  \n",
            "5980    60  \n",
            "5981    31  \n",
            "\n",
            "[5982 rows x 9 columns] best model:  (array([15]),) max score:  0.6931568267465456\n",
            "[(3500, 9), (2482, 9), (3500,)]\n",
            "            train_score  test_score  train-test  roc_auc\n",
            "LR               0.6241      0.6238      0.0003   0.6384\n",
            "KNC_1            1.0000      0.5495      0.4505   0.5203\n",
            "KNC_2            0.7812      0.6057      0.1755   0.5401\n",
            "KNC_3            0.7812      0.5771      0.2041   0.5434\n",
            "KNC_4            0.7343      0.6133      0.1210   0.5549\n",
            "KNC_5            0.7453      0.5905      0.1548   0.5644\n",
            "KNC_6            0.7139      0.6038      0.1101   0.5617\n",
            "KNC_7            0.7086      0.5876      0.1210   0.5671\n",
            "KNC_8            0.7090      0.6143      0.0947   0.5764\n",
            "KNC_9            0.6947      0.6105      0.0842   0.5885\n",
            "DTC              0.7371      0.6295      0.1076   0.6261\n",
            "RFC              1.0000      0.6629      0.3371   0.6580\n",
            "RFC_100_3        0.6580      0.6476      0.0103   0.6885\n",
            "RFC_500_4        0.6739      0.6514      0.0224   0.6963\n",
            "RFC_1000_5       0.6963      0.6657      0.0306   0.6978\n",
            "RFC_2000_6       0.7310      0.6667      0.0644   0.6980\n",
            "XGBC             0.7233      0.6638      0.0595   0.6940\n",
            "data:            총구매액     최대구매액          환불금액  주구매상품  주구매지점  내점일수  내점당구매건수  주말방문비율  \\\n",
            "0      68282840  11264000  6860000.0000      5      0    19   3.8947  0.5270   \n",
            "1       2136000   2136000   300000.0000     21     19     2   1.5000  0.0000   \n",
            "2       3197000   1639000  5945761.5385      6      1     2   2.0000  0.0000   \n",
            "3      16077620   4935000 18435255.9690      5      2    18   2.4444  0.3182   \n",
            "4      29050000  24000000  3200000.0000     15      8     2   1.5000  0.0000   \n",
            "...         ...       ...           ...    ...    ...   ...      ...     ...   \n",
            "5977   82581500  23976000 34571470.9615      3      9     8   1.7500  0.6429   \n",
            "5978     480000    480000  5305093.3333     17      2     1   1.0000  0.0000   \n",
            "5979  260003790  25750000  5945761.5385      6      8    19   3.7368  0.9155   \n",
            "5980   88991520  18120000 16213347.0588     27      8     5   3.6000  0.4444   \n",
            "5981     623700    209000 20808626.1716      0     15     2   5.0000  0.0000   \n",
            "\n",
            "      구매주기  \n",
            "0       17  \n",
            "1        1  \n",
            "2        1  \n",
            "3       16  \n",
            "4       85  \n",
            "...    ...  \n",
            "5977    40  \n",
            "5978     0  \n",
            "5979    18  \n",
            "5980    60  \n",
            "5981    31  \n",
            "\n",
            "[5982 rows x 9 columns] best model:  (array([15]),) max score:  0.6979882114213933\n",
            "[(3500, 8), (2482, 8), (3500,)]\n",
            "            train_score  test_score  train-test  roc_auc\n",
            "LR               0.6233      0.6238      0.0005   0.6489\n",
            "KNC_1            1.0000      0.5600      0.4400   0.5333\n",
            "KNC_2            0.7657      0.6200      0.1457   0.5596\n",
            "KNC_3            0.7731      0.5810      0.1921   0.5663\n",
            "KNC_4            0.7139      0.6114      0.1024   0.5781\n",
            "KNC_5            0.7273      0.5962      0.1312   0.5841\n",
            "KNC_6            0.6967      0.6238      0.0729   0.5839\n",
            "KNC_7            0.7000      0.6010      0.0990   0.5772\n",
            "KNC_8            0.6947      0.6229      0.0718   0.5895\n",
            "KNC_9            0.6959      0.6210      0.0750   0.5844\n",
            "DTC              0.7327      0.6352      0.0974   0.6235\n",
            "RFC              1.0000      0.6457      0.3543   0.6522\n",
            "RFC_100_3        0.6559      0.6448      0.0112   0.6864\n",
            "RFC_500_4        0.6751      0.6505      0.0246   0.6907\n",
            "RFC_1000_5       0.6935      0.6562      0.0373   0.6939\n",
            "RFC_2000_6       0.7245      0.6505      0.0740   0.6936\n",
            "XGBC             0.7224      0.6695      0.0529   0.6911\n",
            "data:            총구매액     최대구매액  주구매상품  주구매지점  내점일수  내점당구매건수  주말방문비율  구매주기\n",
            "0      68282840  11264000      5      0    19   3.8947  0.5270    17\n",
            "1       2136000   2136000     21     19     2   1.5000  0.0000     1\n",
            "2       3197000   1639000      6      1     2   2.0000  0.0000     1\n",
            "3      16077620   4935000      5      2    18   2.4444  0.3182    16\n",
            "4      29050000  24000000     15      8     2   1.5000  0.0000    85\n",
            "...         ...       ...    ...    ...   ...      ...     ...   ...\n",
            "5977   82581500  23976000      3      9     8   1.7500  0.6429    40\n",
            "5978     480000    480000     17      2     1   1.0000  0.0000     0\n",
            "5979  260003790  25750000      6      8    19   3.7368  0.9155    18\n",
            "5980   88991520  18120000     27      8     5   3.6000  0.4444    60\n",
            "5981     623700    209000      0     15     2   5.0000  0.0000    31\n",
            "\n",
            "[5982 rows x 8 columns] best model:  (array([14]),) max score:  0.6938602763552033\n"
          ]
        }
      ]
    },
    {
      "cell_type": "code",
      "source": [
        ""
      ],
      "metadata": {
        "id": "IHUSAyOCIpD5"
      },
      "execution_count": null,
      "outputs": []
    },
    {
      "cell_type": "code",
      "source": [
        ""
      ],
      "metadata": {
        "id": "u288cepmIpAm"
      },
      "execution_count": null,
      "outputs": []
    },
    {
      "cell_type": "code",
      "source": [
        ""
      ],
      "metadata": {
        "id": "s6_kd4XgIo_V"
      },
      "execution_count": null,
      "outputs": []
    },
    {
      "cell_type": "code",
      "source": [
        ""
      ],
      "metadata": {
        "id": "ENpesce4Io7x"
      },
      "execution_count": null,
      "outputs": []
    },
    {
      "cell_type": "code",
      "source": [
        ""
      ],
      "metadata": {
        "id": "fefix4i3Io6l"
      },
      "execution_count": null,
      "outputs": []
    },
    {
      "cell_type": "code",
      "source": [
        ""
      ],
      "metadata": {
        "id": "6Ak00cfiIo2d"
      },
      "execution_count": null,
      "outputs": []
    },
    {
      "cell_type": "code",
      "source": [
        ""
      ],
      "metadata": {
        "id": "lRIikr2HIoyL"
      },
      "execution_count": null,
      "outputs": []
    },
    {
      "cell_type": "code",
      "source": [
        ""
      ],
      "metadata": {
        "id": "tyr0awnvIow8"
      },
      "execution_count": null,
      "outputs": []
    }
  ]
}